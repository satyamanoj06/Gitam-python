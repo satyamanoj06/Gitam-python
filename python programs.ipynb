{
 "cells": [
  {
   "cell_type": "markdown",
   "metadata": {},
   "source": [
    "# markdown basics\n",
    "## markdown basics\n",
    "### markdown basics\n",
    "#### markdown basics\n",
    "##### markdown basics\n",
    "\n",
    "* **point1** (Bold)\n",
    "* point2 (Italic)\n",
    "* ***point*** (Bold And Italic)\n",
    "\n",
    "* Normal Text\n",
    " * Sublist 1\n",
    " * Sublist 2\n",
    " \n",
    "> 1.Point 1\n",
    "> 2.point 2\n",
    "\n",
    "* ***Adding Links To Markdown***\n",
    "\n",
    "* google site -- [1]:https://www.ask.com/\n",
    "\n",
    "* Msn site    -- [2]:https://www.ask.com/\n",
    "\n",
    "- [] option1\n",
    "\n",
    "* google site -- [google][1]\n",
    "  [1]:https://www.ask.com/\n"
   ]
  },
  {
   "cell_type": "code",
   "execution_count": 1,
   "metadata": {},
   "outputs": [
    {
     "name": "stdout",
     "output_type": "stream",
     "text": [
      "Hello,Gitam\n",
      "HYDERABAD\n"
     ]
    }
   ],
   "source": [
    "print(\"Hello,Gitam\")\n",
    "print(\"HYDERABAD\")"
   ]
  },
  {
   "cell_type": "code",
   "execution_count": 2,
   "metadata": {},
   "outputs": [
    {
     "name": "stdout",
     "output_type": "stream",
     "text": [
      "Hello,Gitam |||Hyderabad |||python programming\n"
     ]
    }
   ],
   "source": [
    "print(\"Hello,Gitam\",\"|||Hyderabad\",\"|||python programming\")"
   ]
  },
  {
   "cell_type": "code",
   "execution_count": 3,
   "metadata": {},
   "outputs": [
    {
     "name": "stdout",
     "output_type": "stream",
     "text": [
      "100\n",
      "20 20 20\n",
      "11 22 33\n"
     ]
    }
   ],
   "source": [
    "n1=100\n",
    "a=b=c=20\n",
    "a1,b1,c1=11,22,33\n",
    "print(n1)\n",
    "print(a,b,c)\n",
    "print(a1,b1,c1)\n"
   ]
  },
  {
   "cell_type": "code",
   "execution_count": null,
   "metadata": {},
   "outputs": [],
   "source": [
    "### Data And Conversions\n",
    " . int\n",
    " . float\n",
    " . string"
   ]
  },
  {
   "cell_type": "code",
   "execution_count": 5,
   "metadata": {},
   "outputs": [
    {
     "name": "stdout",
     "output_type": "stream",
     "text": [
      "100 python p 10.2\n",
      "<class 'int'> <class 'str'> <class 'str'> <class 'float'>\n"
     ]
    }
   ],
   "source": [
    "a=100;\n",
    "s1 =\"python\"\n",
    "s2 = 'p'\n",
    "f1 = 10.2\n",
    "print(a,s1,s2,f1)\n",
    "print(type(a),type(s1),type(s2),type(f1))"
   ]
  },
  {
   "cell_type": "code",
   "execution_count": 1,
   "metadata": {},
   "outputs": [
    {
     "name": "stdout",
     "output_type": "stream",
     "text": [
      "<class 'int'>\n",
      "<class 'str'>\n",
      "<class 'float'>\n"
     ]
    }
   ],
   "source": [
    "i=100\n",
    "print(type(i))\n",
    "s1 = str(i) \n",
    "print(type(s1))\n",
    "f1 = float(i)\n",
    "print(type(f1))\n"
   ]
  },
  {
   "cell_type": "code",
   "execution_count": 2,
   "metadata": {},
   "outputs": [
    {
     "name": "stdout",
     "output_type": "stream",
     "text": [
      "<class 'str'>\n",
      "<class 'int'>\n",
      "<class 'int'>\n",
      "1\n"
     ]
    }
   ],
   "source": [
    "s1 = \"100\"\n",
    "print(type(s1))\n",
    "a = int(s1)\n",
    "print(type(a))\n",
    "f = 1.5\n",
    "a1 = int(f)\n",
    "print(type(a1))\n",
    "print(a1)"
   ]
  },
  {
   "cell_type": "code",
   "execution_count": 3,
   "metadata": {},
   "outputs": [
    {
     "name": "stdout",
     "output_type": "stream",
     "text": [
      "4\n"
     ]
    }
   ],
   "source": [
    "#A number is given 1234 -\n",
    "# Digit count\n",
    "a1 = 1234\n",
    "print(len(str(a1)))"
   ]
  },
  {
   "cell_type": "code",
   "execution_count": 4,
   "metadata": {},
   "outputs": [],
   "source": [
    "# reading a value\n",
    "# input(\"Message\") -- string\n"
   ]
  },
  {
   "cell_type": "code",
   "execution_count": 6,
   "metadata": {},
   "outputs": [
    {
     "name": "stdout",
     "output_type": "stream",
     "text": [
      "Enter your name SATYA MANOJ\n",
      "SATYA MANOJ\n",
      "<class 'str'>\n"
     ]
    }
   ],
   "source": [
    "s1 = input(\"Enter your name \")\n",
    "print(s1)\n",
    "print(type(s1))\n"
   ]
  },
  {
   "cell_type": "code",
   "execution_count": 8,
   "metadata": {},
   "outputs": [
    {
     "name": "stdout",
     "output_type": "stream",
     "text": [
      "Enter a number1234\n",
      "1234 <class 'int'>\n"
     ]
    }
   ],
   "source": [
    "# Want number as a input \n",
    "n1 = int(input(\"Enter a number\"))\n",
    "print(n1,type(n1))"
   ]
  },
  {
   "cell_type": "code",
   "execution_count": null,
   "metadata": {
    "collapsed": true
   },
   "outputs": [],
   "source": [
    "## Operators \n",
    "* operator is a symbol used to perform specific kind of operations\n",
    "### Arithmatic Operators\n",
    "* +\n",
    "* /\n",
    "* -\n",
    "* *\n",
    "* %\n",
    "* //\n"
   ]
  },
  {
   "cell_type": "code",
   "execution_count": 9,
   "metadata": {},
   "outputs": [
    {
     "name": "stdout",
     "output_type": "stream",
     "text": [
      "1244\n",
      "1224\n",
      "12340\n",
      "123.4\n",
      "4\n",
      "123\n",
      "8187505353567209228244052427776\n"
     ]
    }
   ],
   "source": [
    "n = 1234\n",
    "print(n+10)\n",
    "print(n-10)\n",
    "print(n*10)\n",
    "print(n/10)\n",
    "print(n%10)\n",
    "print(n//10)\n",
    "print(n**10)"
   ]
  },
  {
   "cell_type": "code",
   "execution_count": null,
   "metadata": {},
   "outputs": [],
   "source": [
    "### Precdence of the Arth operations\n",
    "- Paranthesis\n",
    "- Power\n",
    "- Multiplication\n",
    "- Addition"
   ]
  },
  {
   "cell_type": "code",
   "execution_count": 12,
   "metadata": {},
   "outputs": [
    {
     "name": "stdout",
     "output_type": "stream",
     "text": [
      "8.0\n"
     ]
    }
   ],
   "source": [
    "x = 1 + 2 ** 3 / 4 + 5\n",
    "print(x)"
   ]
  },
  {
   "cell_type": "code",
   "execution_count": 13,
   "metadata": {},
   "outputs": [
    {
     "name": "stdout",
     "output_type": "stream",
     "text": [
      "11.0\n"
     ]
    }
   ],
   "source": [
    " x = 1 + 2 ** 3 / 4 * 5\n",
    "print(x)"
   ]
  },
  {
   "cell_type": "code",
   "execution_count": 14,
   "metadata": {
    "collapsed": true
   },
   "outputs": [
    {
     "ename": "SyntaxError",
     "evalue": "invalid syntax (<ipython-input-14-e63d2fc60e43>, line 2)",
     "output_type": "error",
     "traceback": [
      "\u001b[1;36m  File \u001b[1;32m\"<ipython-input-14-e63d2fc60e43>\"\u001b[1;36m, line \u001b[1;32m2\u001b[0m\n\u001b[1;33m    - ==\u001b[0m\n\u001b[1;37m       ^\u001b[0m\n\u001b[1;31mSyntaxError\u001b[0m\u001b[1;31m:\u001b[0m invalid syntax\n"
     ]
    }
   ],
   "source": [
    "### Relational operator\n",
    "- ==\n",
    "- !=\n",
    "- greater(>)\n",
    "- less than (<)\n",
    "- less than or equals to (<=)\n",
    "- greater than or equals to (>=)"
   ]
  },
  {
   "cell_type": "code",
   "execution_count": 15,
   "metadata": {},
   "outputs": [
    {
     "name": "stdout",
     "output_type": "stream",
     "text": [
      "False\n"
     ]
    }
   ],
   "source": [
    "x = 10\n",
    "a1 = x > 15\n",
    "print(a1)\n"
   ]
  },
  {
   "cell_type": "code",
   "execution_count": null,
   "metadata": {},
   "outputs": [],
   "source": [
    "Logical Operators\n",
    "used to combine more than one single condition\n",
    "- and \n",
    "- or \n",
    "- not"
   ]
  },
  {
   "cell_type": "code",
   "execution_count": 16,
   "metadata": {},
   "outputs": [
    {
     "name": "stdout",
     "output_type": "stream",
     "text": [
      "True\n",
      "False\n"
     ]
    }
   ],
   "source": [
    "i = 100\n",
    "a1 = (i > 15) and (i < 800)\n",
    "a2 = (i > 15) and (i > 800)\n",
    "print(a1)\n",
    "print(a2)"
   ]
  },
  {
   "cell_type": "markdown",
   "metadata": {},
   "source": [
    "### Control flow statements\n",
    "- Conditional Statements\n",
    "- Looping statements\n",
    "\n",
    "#### if-else statements\n",
    "\n",
    "**syntax**\n",
    "\n",
    "if Boolean_condition\n",
    "statements\n",
    "else :\n",
    "statements"
   ]
  },
  {
   "cell_type": "code",
   "execution_count": 17,
   "metadata": {},
   "outputs": [
    {
     "name": "stdout",
     "output_type": "stream",
     "text": [
      "Enter a number12\n",
      "EVEN\n"
     ]
    }
   ],
   "source": [
    "# to chreck given number is even or odd\n",
    "n = int(input(\"Enter a number\"))\n",
    "if n%2 == 0:\n",
    "    print(\"EVEN\")\n",
    "else :\n",
    "    print(\"ODD\")"
   ]
  },
  {
   "cell_type": "code",
   "execution_count": 20,
   "metadata": {},
   "outputs": [
    {
     "name": "stdout",
     "output_type": "stream",
     "text": [
      "Enter a number15\n",
      "YES\n"
     ]
    }
   ],
   "source": [
    "# to check given no is perfectly multiple of 3 & 5 \n",
    "n=int(input(\"Enter a number\"))\n",
    "if n%3 == 0 and n%5 == 0:\n",
    "    print(\"YES\")\n",
    "else:\n",
    "    print(\"NO\")"
   ]
  },
  {
   "cell_type": "code",
   "execution_count": 21,
   "metadata": {},
   "outputs": [
    {
     "name": "stdout",
     "output_type": "stream",
     "text": [
      "Enter a number0\n",
      "ZERO\n"
     ]
    }
   ],
   "source": [
    "# test given number is positive , negative or zero\n",
    "n = int(input(\"Enter a number\"))\n",
    "if n == 0:\n",
    "    print(\"ZERO\")\n",
    "elif n > 0:\n",
    "    print(\"Positive Number\")\n",
    "elif n < 0:\n",
    "    print(\"Negative Number\")"
   ]
  },
  {
   "cell_type": "code",
   "execution_count": null,
   "metadata": {},
   "outputs": [],
   "source": []
  }
 ],
 "metadata": {
  "kernelspec": {
   "display_name": "Python 3",
   "language": "python",
   "name": "python3"
  },
  "language_info": {
   "codemirror_mode": {
    "name": "ipython",
    "version": 3
   },
   "file_extension": ".py",
   "mimetype": "text/x-python",
   "name": "python",
   "nbconvert_exporter": "python",
   "pygments_lexer": "ipython3",
   "version": "3.7.1"
  }
 },
 "nbformat": 4,
 "nbformat_minor": 2
}
