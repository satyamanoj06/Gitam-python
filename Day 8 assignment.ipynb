{
 "cells": [
  {
   "cell_type": "code",
   "execution_count": 2,
   "metadata": {},
   "outputs": [
    {
     "name": "stdout",
     "output_type": "stream",
     "text": [
      "14569"
     ]
    }
   ],
   "source": [
    "# Convert a list into string\n",
    "def listtostring(lst):\n",
    "    for i in lst:\n",
    "        print(i,end=\"\")\n",
    "    return\n",
    "lst = [1,4,5,6,9]\n",
    "listtostring(lst)"
   ]
  },
  {
   "cell_type": "code",
   "execution_count": 3,
   "metadata": {},
   "outputs": [
    {
     "name": "stdout",
     "output_type": "stream",
     "text": [
      "46"
     ]
    }
   ],
   "source": [
    "# Convert only even numbers in list into string\n",
    "def listtostring(lst):\n",
    "    for i in lst:\n",
    "        if i%2==0:\n",
    "            print(i,end=\"\")\n",
    "    return\n",
    "lst = [1,4,5,6,9]\n",
    "listtostring(lst)"
   ]
  },
  {
   "cell_type": "code",
   "execution_count": 18,
   "metadata": {},
   "outputs": [
    {
     "data": {
      "text/plain": [
       "[1, 4, 3, 16, 5]"
      ]
     },
     "execution_count": 18,
     "metadata": {},
     "output_type": "execute_result"
    }
   ],
   "source": [
    "# Convert only squares of even numbers in list into string\n",
    "def listtostring(lst):\n",
    "    for i in range(len(lst)):\n",
    "        if lst[i]%2==0:\n",
    "            lst[i]=lst[i]*lst[i]\n",
    "        else:\n",
    "            lst[i]=lst[i]\n",
    "    return lst\n",
    "lst = [1,2,3,4,5]\n",
    "listtostring(lst)"
   ]
  },
  {
   "cell_type": "code",
   "execution_count": 22,
   "metadata": {},
   "outputs": [
    {
     "data": {
      "text/plain": [
       "[15, 34, 31, 28, 4]"
      ]
     },
     "execution_count": 22,
     "metadata": {},
     "output_type": "execute_result"
    }
   ],
   "source": [
    "# Convert only squares of even numbers in list into string\n",
    "def listtostring(lst):\n",
    "    l2 = []\n",
    "    for i in range(len(lst)):\n",
    "        if i==0 or i==len(lst)-1:\n",
    "            l2.append(lst[i])\n",
    "        else:\n",
    "            l2.append(lst[i-1]+lst[i])\n",
    "    return l2\n",
    "lst = [15,19,12,16,4]\n",
    "listtostring(lst)"
   ]
  },
  {
   "cell_type": "code",
   "execution_count": null,
   "metadata": {},
   "outputs": [],
   "source": []
  }
 ],
 "metadata": {
  "kernelspec": {
   "display_name": "Python 3",
   "language": "python",
   "name": "python3"
  },
  "language_info": {
   "codemirror_mode": {
    "name": "ipython",
    "version": 3
   },
   "file_extension": ".py",
   "mimetype": "text/x-python",
   "name": "python",
   "nbconvert_exporter": "python",
   "pygments_lexer": "ipython3",
   "version": "3.7.1"
  }
 },
 "nbformat": 4,
 "nbformat_minor": 2
}
