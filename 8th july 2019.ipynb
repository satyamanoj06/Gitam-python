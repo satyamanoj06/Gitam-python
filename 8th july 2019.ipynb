{
  "nbformat": 4,
  "nbformat_minor": 0,
  "metadata": {
    "colab": {
      "name": "8-7-19.ipynb",
      "version": "0.3.2",
      "provenance": [],
      "collapsed_sections": []
    },
    "kernelspec": {
      "name": "python3",
      "display_name": "Python 3"
    }
  },
  "cells": [
    {
      "cell_type": "code",
      "metadata": {
        "id": "PeAecvx5pq5L",
        "colab_type": "code",
        "outputId": "5ee785f6-6f18-469a-862b-521190bac6cb",
        "colab": {
          "base_uri": "https://localhost:8080/",
          "height": 34
        }
      },
      "source": [
        "#find the factors of a given number\n",
        "def factorslist(n):\n",
        "  for i in range(1,n+1):\n",
        "    if n%i==0:\n",
        "      print(i,end=\" \")\n",
        "  return\n",
        "factorslist(12)"
      ],
      "execution_count": 0,
      "outputs": [
        {
          "output_type": "stream",
          "text": [
            "1 2 3 4 6 12 "
          ],
          "name": "stdout"
        }
      ]
    },
    {
      "cell_type": "markdown",
      "metadata": {
        "id": "nUMXzkpB2vRF",
        "colab_type": "text"
      },
      "source": [
        "[image](https://drive.google.com/open?id=1nczWlICeRk7MV9dnXc1IPAa55KE6g4kU)"
      ]
    },
    {
      "cell_type": "code",
      "metadata": {
        "id": "2yslfn1ys1YH",
        "colab_type": "code",
        "outputId": "6ab4916d-b9c8-49b8-fcd3-2e9e3582e186",
        "colab": {
          "base_uri": "https://localhost:8080/",
          "height": 34
        }
      },
      "source": [
        "#given number is prime number or not\n",
        "\n",
        "def isprime(n):\n",
        "  flag=True\n",
        "  for i in range(2,n//2+1):\n",
        "    if n%i ==0:\n",
        "      flag = False\n",
        "      return flag\n",
        "  return flag\n",
        "isprime(11)"
      ],
      "execution_count": 0,
      "outputs": [
        {
          "output_type": "execute_result",
          "data": {
            "text/plain": [
              "True"
            ]
          },
          "metadata": {
            "tags": []
          },
          "execution_count": 18
        }
      ]
    },
    {
      "cell_type": "markdown",
      "metadata": {
        "id": "S7ocIlbw1c8d",
        "colab_type": "text"
      },
      "source": [
        "[image](https://drive.google.com/open?id=1c-KZXzX4Zmiaapcyu2IYdeXXj0Up82RD)"
      ]
    },
    {
      "cell_type": "code",
      "metadata": {
        "id": "myXE0D35tV5p",
        "colab_type": "code",
        "outputId": "d381182f-8b58-4adc-cd9b-bc088e8fa728",
        "colab": {
          "base_uri": "https://localhost:8080/",
          "height": 34
        }
      },
      "source": [
        "#function to find prime numbers count from 1 to N\n",
        "#10 -- 4(2,3,5,7)\n",
        "def primeCount(n):\n",
        "  cnt=0\n",
        "  for a in range(2,n+1):\n",
        "    k=0\n",
        "    for i in range(2,a//2+1):\n",
        "      if a%i==0:\n",
        "        k=k+1\n",
        "    if (k<=0):\n",
        "      cnt = cnt +1\n",
        "  return cnt\n",
        "primeCount(10)"
      ],
      "execution_count": 0,
      "outputs": [
        {
          "output_type": "execute_result",
          "data": {
            "text/plain": [
              "4"
            ]
          },
          "metadata": {
            "tags": []
          },
          "execution_count": 21
        }
      ]
    },
    {
      "cell_type": "markdown",
      "metadata": {
        "id": "KqL0D-0902n7",
        "colab_type": "text"
      },
      "source": [
        "[image](https://drive.google.com/open?id=1hE5kH4_WCDCitRI_KnmaqfoL_AO_mQLO)"
      ]
    },
    {
      "cell_type": "code",
      "metadata": {
        "id": "OsFZmC-Jw2lB",
        "colab_type": "code",
        "outputId": "7ce7e9b9-2c0d-497f-9e59-55c44d988ebb",
        "colab": {
          "base_uri": "https://localhost:8080/",
          "height": 34
        }
      },
      "source": [
        "#Input : n\n",
        "#output : yes or no\n",
        "#yes- Individual digit factorial sum is same as original number\n",
        "#no- otherwise\n",
        "#example : 145-- 1! +4! + 5! = 1+24+120=145\n",
        "def fact(a):\n",
        "    \n",
        "    f=1\n",
        "    for j in range(1,a+1):\n",
        "      f=f*j\n",
        "    return f \n",
        "\n",
        "def digitFactSum(n):\n",
        "    sum=0\n",
        "    temp=n\n",
        "    while(n>0):\n",
        "        r=n%10\n",
        "        sum=sum+fact(r)\n",
        "        n=n//10\n",
        "    \n",
        "    if sum==temp:\n",
        "      print(\"yes\")\n",
        "    else:\n",
        "      print(\"no\")\n",
        "digitFactSum(145)\n",
        "        "
      ],
      "execution_count": 0,
      "outputs": [
        {
          "output_type": "stream",
          "text": [
            "yes\n"
          ],
          "name": "stdout"
        }
      ]
    },
    {
      "cell_type": "code",
      "metadata": {
        "id": "SZ9V5Tht2FeY",
        "colab_type": "code",
        "outputId": "93960650-68f0-4b1f-db5c-f1c2b6308c02",
        "colab": {
          "base_uri": "https://localhost:8080/",
          "height": 69
        }
      },
      "source": [
        "#function to return the count of palindrome number two limits\n",
        "def isPalindrome(n):\n",
        "    rev = 0\n",
        "    temp = n\n",
        "    while n > 0 : \n",
        "        r = n % 10\n",
        "        rev = rev * 10 + r\n",
        "        n //= 10\n",
        "    if rev == temp:\n",
        "        print(rev,end=\" \")\n",
        "def Range(a,b):\n",
        "  for i in range(a,b+1,1):\n",
        "    isPalindrome(i)\n",
        "    \n",
        "\n",
        "def main():\n",
        "  a= int(input(\"Enter starting range:\"))\n",
        "  b= int(input(\"Enter ending range:\"))\n",
        "  Range(a,b)\n",
        "\n",
        "if __name__ == \"__main__\":\n",
        "  main()"
      ],
      "execution_count": 0,
      "outputs": [
        {
          "output_type": "stream",
          "text": [
            "Enter starting range:10\n",
            "Enter ending range:25\n",
            "11 22 "
          ],
          "name": "stdout"
        }
      ]
    },
    {
      "cell_type": "markdown",
      "metadata": {
        "id": "nbpREhup7CWq",
        "colab_type": "text"
      },
      "source": [
        "[Palindrome Main function](https://drive.google.com/open?id=1cU08u-OiXaOdGQlrp-w_ygDCwpqxfWEg)\n",
        "\n",
        "[Palindrome Function](https://drive.google.com/open?id=1vduPH3k6f_523WfBWJQOCtz-uG8VJO-5)"
      ]
    },
    {
      "cell_type": "code",
      "metadata": {
        "id": "Db-petD_78y6",
        "colab_type": "code",
        "outputId": "1fac9fea-3ef1-4d8f-8465-f458dd64b12f",
        "colab": {
          "base_uri": "https://localhost:8080/",
          "height": 34
        }
      },
      "source": [
        "#fuction to generate the perfect numbers in a given range\n",
        "#perfect number: Sum of all its factors same as original number\n",
        "#example: 6 -- 1 2 3(1+2+3)==6\n",
        "#input 1 10\n",
        "#output 6\n",
        "def factorList(n):\n",
        "  sum=0\n",
        "  for i in range(1,n//2+1):\n",
        "    if n%i == 0:\n",
        "      sum = sum+i\n",
        "  return sum\n",
        "\n",
        "def Range(lb,ub):\n",
        "  for i in range(lb,ub+1):\n",
        "     if (i == factorList(i)):\n",
        "        print(i,end=\" \")\n",
        "  return\n",
        "Range(1,100)"
      ],
      "execution_count": 0,
      "outputs": [
        {
          "output_type": "stream",
          "text": [
            "6 28 "
          ],
          "name": "stdout"
        }
      ]
    },
    {
      "cell_type": "markdown",
      "metadata": {
        "id": "lxrJwkTMXga2",
        "colab_type": "text"
      },
      "source": [
        "###Programming in Python (strings)\n",
        "-Strings\n",
        "\n",
        "-Strings Slicing\n",
        "\n",
        "-Fundamental Programming with String in Python\n"
      ]
    },
    {
      "cell_type": "code",
      "metadata": {
        "id": "j4_0SwG5XvFc",
        "colab_type": "code",
        "outputId": "c29416cb-eebc-46bb-dff2-b9d69ecd4e78",
        "colab": {
          "base_uri": "https://localhost:8080/",
          "height": 52
        }
      },
      "source": [
        "s1= \"Python\"\n",
        "print(s1)\n",
        "print(type(s1))"
      ],
      "execution_count": 0,
      "outputs": [
        {
          "output_type": "stream",
          "text": [
            "Python\n",
            "<class 'str'>\n"
          ],
          "name": "stdout"
        }
      ]
    },
    {
      "cell_type": "code",
      "metadata": {
        "id": "vk3mayCTXzcv",
        "colab_type": "code",
        "outputId": "898273f9-a72c-473e-b65a-e88d22b60247",
        "colab": {
          "base_uri": "https://localhost:8080/",
          "height": 86
        }
      },
      "source": [
        "s1 = \"python\"\n",
        "print(s1[0]) #access the first character\n",
        "print(s1[1]) #access the second scharacter\n",
        "print(s1[5]) #last character\n",
        "print(s1[len(s1)-1]) #Access the last character"
      ],
      "execution_count": 0,
      "outputs": [
        {
          "output_type": "stream",
          "text": [
            "p\n",
            "y\n",
            "n\n",
            "n\n"
          ],
          "name": "stdout"
        }
      ]
    },
    {
      "cell_type": "code",
      "metadata": {
        "id": "f-nasGsLYBQh",
        "colab_type": "code",
        "outputId": "c219b838-4152-4855-ac1d-e8f7979e7593",
        "colab": {
          "base_uri": "https://localhost:8080/",
          "height": 121
        }
      },
      "source": [
        "print(s1[-1]) #another way of accessing the last character\n",
        "print(s1[-2]) #another way of accessing the last second character\n",
        "print(s1[0:2]) #access the first character\n",
        "print(s1[:4]) #access from first to 4th\n",
        "print(s1[-2:]) #access last 2 characters\n",
        "print(s1[2:]) #access from second to last characters"
      ],
      "execution_count": 0,
      "outputs": [
        {
          "output_type": "stream",
          "text": [
            "n\n",
            "o\n",
            "py\n",
            "pyth\n",
            "on\n",
            "thon\n"
          ],
          "name": "stdout"
        }
      ]
    },
    {
      "cell_type": "code",
      "metadata": {
        "id": "0LmZJwF5aMI5",
        "colab_type": "code",
        "outputId": "fbb4971a-8247-4826-9d17-0c7eb3a8a29b",
        "colab": {
          "base_uri": "https://localhost:8080/",
          "height": 138
        }
      },
      "source": [
        "print(s1[1:-1])# printing all character except first and last\n",
        "print(s1[len(s1)//2]) #middle of the string\n",
        "print(s1[-1::-1]) #reverse of the stringst two characters \n",
        "print(s1[-1:-3:-1]) #access the lain reverse order\n",
        "print(s1[::2]) #access the alternate  2 characters\n",
        "print(s1[::3]) #access the alternate 3 characters\n",
        "print(s1[::-1]) #from reverse order"
      ],
      "execution_count": 0,
      "outputs": [
        {
          "output_type": "stream",
          "text": [
            "ytho\n",
            "h\n",
            "nohtyp\n",
            "no\n",
            "pto\n",
            "ph\n",
            "nohtyp\n"
          ],
          "name": "stdout"
        }
      ]
    },
    {
      "cell_type": "code",
      "metadata": {
        "id": "uluLsv-EbxVB",
        "colab_type": "code",
        "outputId": "1df1b111-a6ed-4280-b50d-fa7b722e22e7",
        "colab": {
          "base_uri": "https://localhost:8080/",
          "height": 34
        }
      },
      "source": [
        "def reverseString(str):\n",
        "  return str[-1::-1]\n",
        "reverseString(\"Programming\")\n"
      ],
      "execution_count": 0,
      "outputs": [
        {
          "output_type": "execute_result",
          "data": {
            "text/plain": [
              "'gnimmargorP'"
            ]
          },
          "metadata": {
            "tags": []
          },
          "execution_count": 90
        }
      ]
    },
    {
      "cell_type": "code",
      "metadata": {
        "id": "nGUaaGNyd1my",
        "colab_type": "code",
        "outputId": "182730e1-6e6c-47a2-c840-085bad161585",
        "colab": {
          "base_uri": "https://localhost:8080/",
          "height": 52
        }
      },
      "source": [
        "def isPalindrome(str):\n",
        "  if str == str[::-1]:\n",
        "    return True\n",
        "  else:\n",
        "    return False\n",
        "  return\n",
        "print(isPalindrome(\"Python\"))\n",
        "print(isPalindrome(\"ganag\"))\n"
      ],
      "execution_count": 0,
      "outputs": [
        {
          "output_type": "stream",
          "text": [
            "False\n",
            "True\n"
          ],
          "name": "stdout"
        }
      ]
    },
    {
      "cell_type": "code",
      "metadata": {
        "id": "CS7KP8BSeLL9",
        "colab_type": "code",
        "outputId": "a62bece0-040a-4667-d4b2-e01e52e34e12",
        "colab": {
          "base_uri": "https://localhost:8080/",
          "height": 34
        }
      },
      "source": [
        "ord('A')"
      ],
      "execution_count": 0,
      "outputs": [
        {
          "output_type": "execute_result",
          "data": {
            "text/plain": [
              "65"
            ]
          },
          "metadata": {
            "tags": []
          },
          "execution_count": 93
        }
      ]
    },
    {
      "cell_type": "code",
      "metadata": {
        "id": "QUXQdfoZwd8t",
        "colab_type": "code",
        "outputId": "25249694-7cdc-4716-a761-64d96dbc3e7b",
        "colab": {
          "base_uri": "https://localhost:8080/",
          "height": 34
        }
      },
      "source": [
        "def printUpper(x):\n",
        "  for i in range(len(x)):\n",
        "    if ord(x[i]) >= 65 and ord(x[i]) <= 90:\n",
        "      print(x[i],end =\" \")\n",
        "  return\n",
        "printUpper(\"PyThon\")"
      ],
      "execution_count": 0,
      "outputs": [
        {
          "output_type": "stream",
          "text": [
            "P T "
          ],
          "name": "stdout"
        }
      ]
    },
    {
      "cell_type": "code",
      "metadata": {
        "id": "JYmTVHxfxOSn",
        "colab_type": "code",
        "outputId": "062de655-bb43-4d19-cee6-b00334c4c210",
        "colab": {
          "base_uri": "https://localhost:8080/",
          "height": 34
        }
      },
      "source": [
        "# Function to print \"Python\" if the count of Upper and lower is same\n",
        "# Print \"Programming\" if not same\n",
        "# Example : PyThOn -- 3 P T O (Upper case) -- Python\n",
        "#                     3 y h n (Lower case)\n",
        "# PytHon -- P H (2)\n",
        "        #--  y t o n (4) -- Programming\n",
        "def findCount(str) :\n",
        "    cntUpper = 0\n",
        "    cntLower = 0\n",
        "    for x in range (len(str)):\n",
        "        if ord(str[x]) >= 65 and ord(str[x]) <= 90:\n",
        "            cntUpper = cntUpper + 1\n",
        "        elif ord(str[x]) >= 97 and ord(str[x]) <= 122:\n",
        "            cntLower = cntLower + 1\n",
        "    if cntUpper == cntLower:\n",
        "        return \"SameCount\"\n",
        "    else:\n",
        "        return \"Programming\"\n",
        "findCount(\"PyThOn\")\n"
      ],
      "execution_count": 0,
      "outputs": [
        {
          "output_type": "execute_result",
          "data": {
            "text/plain": [
              "'SameCount'"
            ]
          },
          "metadata": {
            "tags": []
          },
          "execution_count": 108
        }
      ]
    },
    {
      "cell_type": "code",
      "metadata": {
        "id": "MYsp9WK62-l3",
        "colab_type": "code",
        "outputId": "b6f2eb3d-e8ec-4b6a-d4fb-3b66a3ac4697",
        "colab": {
          "base_uri": "https://localhost:8080/",
          "height": 34
        }
      },
      "source": [
        "#extract digits from given string \n",
        "#example:\n",
        "#input Applica1tion8s89\n",
        "#output 1 8 8 9\n",
        "def num(x):\n",
        "  for i in range(len(x)):\n",
        "    if ord(x[i]) >= 48 and ord(x[i]) <= 57:\n",
        "      print(x[i],end =\" \")\n",
        "  return\n",
        "num(\"Applica1tion8s89\")\n"
      ],
      "execution_count": 0,
      "outputs": [
        {
          "output_type": "stream",
          "text": [
            "1 8 8 9 "
          ],
          "name": "stdout"
        }
      ]
    },
    {
      "cell_type": "code",
      "metadata": {
        "id": "FK2kuU2nBA4j",
        "colab_type": "code",
        "outputId": "706b3243-99ad-4b15-c0b7-c3c551a3f7bd",
        "colab": {
          "base_uri": "https://localhost:8080/",
          "height": 34
        }
      },
      "source": [
        "#function to return the sum of digits in a given string\n",
        "#example:\n",
        "#input Applica1tion8s89\n",
        "#output 26(1+8+8+9)\n",
        "def sumofDigits(x):\n",
        "  sum=0\n",
        "  for i in range(len(x)):\n",
        "    if ord(x[i]) >= 48 and ord(x[i]) <= 57:\n",
        "      sum=sum+int(x[i])\n",
        "  print(sum)     \n",
        "  return\n",
        "sumofDigits(\"Applica8322n8s89\")\n"
      ],
      "execution_count": 0,
      "outputs": [
        {
          "output_type": "stream",
          "text": [
            "40\n"
          ],
          "name": "stdout"
        }
      ]
    },
    {
      "cell_type": "code",
      "metadata": {
        "id": "gVbFvjDs4F1v",
        "colab_type": "code",
        "outputId": "3a1d075f-e4fc-4121-8b1e-f1604c02404b",
        "colab": {
          "base_uri": "https://localhost:8080/",
          "height": 34
        }
      },
      "source": [
        "#function to return the sum of digits in a given string\n",
        "#example:\n",
        "#input Applica1tion8s89\n",
        "#output of even numbers 26(1+8+8+9)\n",
        "def sumofDigits(x):\n",
        "  sum=0\n",
        "  for i in range(len(x)):\n",
        "    if ord(x[i]) >= 48 and ord(x[i]) <= 57:\n",
        "      if int(x[i])%2==0:\n",
        "        sum=sum+int(x[i])\n",
        "  print(sum)     \n",
        "  return\n",
        "sumofDigits(\"Applica8322n8s89\")\n"
      ],
      "execution_count": 0,
      "outputs": [
        {
          "output_type": "stream",
          "text": [
            "28\n"
          ],
          "name": "stdout"
        }
      ]
    },
    {
      "cell_type": "code",
      "metadata": {
        "id": "m9Ta1A4l9JNM",
        "colab_type": "code",
        "outputId": "4fc4bb8d-db21-4e9f-e761-a7c6af0a76de",
        "colab": {
          "base_uri": "https://localhost:8080/",
          "height": 34
        }
      },
      "source": [
        "#function to print the specific word in Upper case\n",
        "#example:\n",
        "#input:Python Made Easy\n",
        "#output:Made\n",
        "#input:Learn Python Programming\n",
        "#output:PYTHON\n",
        "def wordUpperCase(s):\n",
        "  spaceCnt = 0\n",
        "  for x in range(len(s)):\n",
        "    if ord(s[x])==32:\n",
        "      spaceCnt += 1 #spaceCnt = spaceCnt + 1\n",
        "    if spaceCnt == 1:\n",
        "      if ord(s[x])>=65 and ord(s[x])<=90:\n",
        "        print(s[x],end=\"\")\n",
        "      elif ord(s[x])>=97 and ord(s[x]) <=122:\n",
        "        print(chr(ord(s[x])-32),end=\"\")\n",
        "    if spaceCnt ==2:\n",
        "      return\n",
        "wordUpperCase(\"Python Made Easy\")"
      ],
      "execution_count": 0,
      "outputs": [
        {
          "output_type": "stream",
          "text": [
            "MADE"
          ],
          "name": "stdout"
        }
      ]
    },
    {
      "cell_type": "code",
      "metadata": {
        "id": "DTrO3mFkI17Y",
        "colab_type": "code",
        "colab": {}
      },
      "source": [
        ""
      ],
      "execution_count": 0,
      "outputs": []
    }
  ]
}