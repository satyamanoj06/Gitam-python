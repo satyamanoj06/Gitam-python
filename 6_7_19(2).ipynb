{
  "nbformat": 4,
  "nbformat_minor": 0,
  "metadata": {
    "colab": {
      "name": "6-7-19(2).ipynb",
      "version": "0.3.2",
      "provenance": [],
      "collapsed_sections": [],
      "include_colab_link": true
    },
    "kernelspec": {
      "name": "python3",
      "display_name": "Python 3"
    }
  },
  "cells": [
    {
      "cell_type": "markdown",
      "metadata": {
        "id": "view-in-github",
        "colab_type": "text"
      },
      "source": [
        "<a href=\"https://colab.research.google.com/github/satyamanoj06/Gitam-python/blob/master/6_7_19(2).ipynb\" target=\"_parent\"><img src=\"https://colab.research.google.com/assets/colab-badge.svg\" alt=\"Open In Colab\"/></a>"
      ]
    },
    {
      "cell_type": "markdown",
      "metadata": {
        "id": "ry3nc0ckt6Tc",
        "colab_type": "text"
      },
      "source": [
        "## Iteration\n",
        "- while \n",
        "- for\n",
        "\n",
        "\n",
        "\n",
        "*Syntax* :\n",
        "\n",
        "        while Boolean_Condition :        \n",
        "                statements\n",
        "                increment/decrement\n",
        "                "
      ]
    },
    {
      "cell_type": "code",
      "metadata": {
        "id": "I5-YT3Att8Lz",
        "colab_type": "code",
        "outputId": "f74235d1-35b6-46bd-bfdb-d403c7ae42fd",
        "colab": {
          "base_uri": "https://localhost:8080/",
          "height": 104
        }
      },
      "source": [
        "# Example - while\n",
        "x = 0\n",
        "while x<5 :\n",
        "  print(\"Gitam\")\n",
        "  x = x + 1"
      ],
      "execution_count": 0,
      "outputs": [
        {
          "output_type": "stream",
          "text": [
            "Gitam\n",
            "Gitam\n",
            "Gitam\n",
            "Gitam\n",
            "Gitam\n"
          ],
          "name": "stdout"
        }
      ]
    },
    {
      "cell_type": "markdown",
      "metadata": {
        "id": "EqdvbNBwuBEs",
        "colab_type": "text"
      },
      "source": [
        "[image](https://drive.google.com/open?id=1QDK3AYkAA0erOZnjxJJkgu_AI1rTde8D)\n"
      ]
    },
    {
      "cell_type": "code",
      "metadata": {
        "id": "_GScrXv5u733",
        "colab_type": "code",
        "outputId": "2ecff2fb-d3c9-4afd-b837-4bc78918ced3",
        "colab": {
          "base_uri": "https://localhost:8080/",
          "height": 52
        }
      },
      "source": [
        " # printing n natural numbers\n",
        "n = int(input(\"Enter no. of terms - \"))\n",
        "i = 1\n",
        "while i<=n :\n",
        "  print(i, end = \" \")\n",
        "  i = i + 1\n"
      ],
      "execution_count": 0,
      "outputs": [
        {
          "output_type": "stream",
          "text": [
            "Enter no. of terms - 12\n",
            "1 2 3 4 5 6 7 8 9 10 11 12 "
          ],
          "name": "stdout"
        }
      ]
    },
    {
      "cell_type": "markdown",
      "metadata": {
        "id": "DUUlwPAnwx0W",
        "colab_type": "text"
      },
      "source": [
        "[image](https://drive.google.com/open?id=1v1eHGso9M8tkffTiIxTkv2ZulZRGukKd)"
      ]
    },
    {
      "cell_type": "code",
      "metadata": {
        "id": "1el8C7mpw2Pl",
        "colab_type": "code",
        "outputId": "5766452a-0af7-4a8b-dcc0-e8c95dfa92e3",
        "colab": {
          "base_uri": "https://localhost:8080/",
          "height": 52
        }
      },
      "source": [
        "# sum of even no. till n\n",
        "n = int(input(\"Enter no. of terms - \"))\n",
        "i = 1\n",
        "sum = 0\n",
        "while i <= n :\n",
        "  if i%2==0 :\n",
        "    sum = sum + i\n",
        "  i = i + 1\n",
        "print(\"Sum = \", sum)\n"
      ],
      "execution_count": 0,
      "outputs": [
        {
          "output_type": "stream",
          "text": [
            "Enter no. of terms - 20\n",
            "Sum =  110\n"
          ],
          "name": "stdout"
        }
      ]
    },
    {
      "cell_type": "markdown",
      "metadata": {
        "id": "VDnesWadyHyy",
        "colab_type": "text"
      },
      "source": [
        "\n",
        "[image](https://drive.google.com/open?id=11X9NplnA6aeqb6A5BwCVbxI_7WGHo21E)\n"
      ]
    },
    {
      "cell_type": "code",
      "metadata": {
        "id": "Eo4GDWbQyXdo",
        "colab_type": "code",
        "outputId": "fb4a9c05-8189-40e6-afa3-bdf0a1ede359",
        "colab": {
          "base_uri": "https://localhost:8080/",
          "height": 52
        }
      },
      "source": [
        "# print digits of given number in reverse order\n",
        "n = int(input(\"Enter a number - \"))\n",
        "r = 0\n",
        "while n!=0 :\n",
        "  r = n % 10\n",
        "  n = n // 10\n",
        "  print(r, end = \" \")"
      ],
      "execution_count": 0,
      "outputs": [
        {
          "output_type": "stream",
          "text": [
            "Enter a number - 2598\n",
            "8 9 5 2 "
          ],
          "name": "stdout"
        }
      ]
    },
    {
      "cell_type": "markdown",
      "metadata": {
        "id": "RetfeAHLykt-",
        "colab_type": "text"
      },
      "source": [
        "[image](https://drive.google.com/open?id=18ooYSv-ACndAsrif65wrlnA_uOsuafpw)"
      ]
    },
    {
      "cell_type": "markdown",
      "metadata": {
        "id": "jNmSILzkzbLE",
        "colab_type": "text"
      },
      "source": [
        "## Functional Programming\n",
        "- Simple \n",
        "- Easy to read\n",
        "- Lengthy program divides into sub programs\n",
        "\n",
        "\n",
        "while *Syntax*\n",
        "\n",
        "  def nameoftheFunction(parameters) :\n",
        "  \n",
        "      statements\n",
        "      return\n",
        "      \n",
        " \n",
        "for *syntax*\n",
        "\n",
        "  ex :- for x in range(1,n+1) : ( n+1 required, range function will not include upper range )\n",
        "  \n",
        "            print(x)\n",
        "            "
      ]
    },
    {
      "cell_type": "code",
      "metadata": {
        "id": "NZn_diBtzeI1",
        "colab_type": "code",
        "outputId": "60c4dae2-59fc-432a-90de-969b90cb59b1",
        "colab": {
          "base_uri": "https://localhost:8080/",
          "height": 34
        }
      },
      "source": [
        "def addEvenDigits(n) :\n",
        "  sum = 0\n",
        "  while n != 0 :\n",
        "    r = n % 10\n",
        "    if r % 2 == 0:\n",
        "      sum = sum + r\n",
        "    n = n // 10\n",
        "  print(\"Sum = \", sum)\n",
        "  return\n",
        "addEvenDigits(1234)\n"
      ],
      "execution_count": 0,
      "outputs": [
        {
          "output_type": "stream",
          "text": [
            "Sum =  6\n"
          ],
          "name": "stdout"
        }
      ]
    },
    {
      "cell_type": "markdown",
      "metadata": {
        "id": "vhbNQZguzs2H",
        "colab_type": "text"
      },
      "source": [
        "[image](https://drive.google.com/open?id=1y-NEP3YURtlkcnryHxBuUiRrDm4M7O0J)"
      ]
    },
    {
      "cell_type": "code",
      "metadata": {
        "id": "0oBa1gOYzwj-",
        "colab_type": "code",
        "outputId": "e90844e7-581a-48bc-d64c-23496f974564",
        "colab": {
          "base_uri": "https://localhost:8080/",
          "height": 52
        }
      },
      "source": [
        "def addEvenDigits(n) :\n",
        "  sum = 0\n",
        "  while n != 0 :\n",
        "    r = n % 10\n",
        "    if r % 2 == 0:\n",
        "      sum = sum + r\n",
        "    n = n // 10\n",
        "  return sum\n",
        "n = int(input(\"Enter a number - \"))\n",
        "sum = addEvenDigits(n)\n",
        "print(\"Sum = \", sum)"
      ],
      "execution_count": 0,
      "outputs": [
        {
          "output_type": "stream",
          "text": [
            "Enter a number - 5658\n",
            "Sum =  14\n"
          ],
          "name": "stdout"
        }
      ]
    },
    {
      "cell_type": "code",
      "metadata": {
        "id": "WqI65Vs9z44F",
        "colab_type": "code",
        "outputId": "2cc810b9-f630-420f-fdd6-c26a42c02ec8",
        "colab": {
          "base_uri": "https://localhost:8080/",
          "height": 34
        }
      },
      "source": [
        "# Print large digit in given number\n",
        "def printlarge(n) :\n",
        "  large = 0\n",
        "  while n != 0 :\n",
        "    r = n % 10\n",
        "    if large<r :\n",
        "      large = r\n",
        "    n = n // 10\n",
        "  return large\n",
        "printlarge(19528)\n"
      ],
      "execution_count": 0,
      "outputs": [
        {
          "output_type": "execute_result",
          "data": {
            "text/plain": [
              "9"
            ]
          },
          "metadata": {
            "tags": []
          },
          "execution_count": 7
        }
      ]
    },
    {
      "cell_type": "markdown",
      "metadata": {
        "id": "6MevZ4WL0ELR",
        "colab_type": "text"
      },
      "source": [
        "[image](https://drive.google.com/open?id=1u0WtPye0q0XRpTVAdFk5yBWPRqKp3Ptw)"
      ]
    },
    {
      "cell_type": "code",
      "metadata": {
        "id": "dJjfATRT0ICX",
        "colab_type": "code",
        "outputId": "4626097c-08a8-4004-9ee0-d65a07b76ff8",
        "colab": {
          "base_uri": "https://localhost:8080/",
          "height": 52
        }
      },
      "source": [
        "# Reverse of given number \n",
        "def reverse(n) :\n",
        "  a = 0\n",
        "  while n != 0 :\n",
        "    r = n % 10\n",
        "    a = a * 10 + r\n",
        "    n = n // 10\n",
        "  return a\n",
        "x = int(input(\"Enter a number - \"))\n",
        "print(\"Reverse - \", reverse(x))"
      ],
      "execution_count": 0,
      "outputs": [
        {
          "output_type": "stream",
          "text": [
            "Enter a number - 123456789\n",
            "Reverse -  987654321\n"
          ],
          "name": "stdout"
        }
      ]
    },
    {
      "cell_type": "markdown",
      "metadata": {
        "id": "kWEiMO2n0hwd",
        "colab_type": "text"
      },
      "source": [
        "[image](https://drive.google.com/open?id=1jSKWOVtkBZ9msB8w-Ev-ilk6Peyu8ALA)"
      ]
    },
    {
      "cell_type": "code",
      "metadata": {
        "id": "Bv1rIOsn0oDV",
        "colab_type": "code",
        "outputId": "5842fcf1-241b-494a-8203-da713332d273",
        "colab": {
          "base_uri": "https://localhost:8080/",
          "height": 52
        }
      },
      "source": [
        "# Prime or not\n",
        "def prime(n) :\n",
        "  i = 2\n",
        "  cnt = 0\n",
        "  while i!=n :\n",
        "    if n % i == 0 :\n",
        "      print(\"Not a Prime number\")\n",
        "      cnt = 1\n",
        "      break\n",
        "    i = i + 1\n",
        "  if cnt == 0 :\n",
        "    print(\"It is a Prime number\")\n",
        "  return\n",
        "x = int(input(\"Enter a number - \"))\n",
        "prime(x)\n"
      ],
      "execution_count": 0,
      "outputs": [
        {
          "output_type": "stream",
          "text": [
            "Enter a number - 123\n",
            "Not a Prime number\n"
          ],
          "name": "stdout"
        }
      ]
    },
    {
      "cell_type": "markdown",
      "metadata": {
        "id": "R011DZrk03mN",
        "colab_type": "text"
      },
      "source": [
        "[image](https://drive.google.com/open?id=1FBdxiXQtuUfFKYm9BsCwuDFLoDomBVZX)"
      ]
    },
    {
      "cell_type": "code",
      "metadata": {
        "id": "AZ5gpmyp00jj",
        "colab_type": "code",
        "outputId": "121a9956-2ccd-4e37-b8e0-924e64fe4c2c",
        "colab": {
          "base_uri": "https://localhost:8080/",
          "height": 52
        }
      },
      "source": [
        "# Palindrome or not\n",
        "def palindrome(n) :\n",
        "  rev = 0\n",
        "  buffer = n\n",
        "  while n != 0 :\n",
        "    r = n % 10\n",
        "    rev = rev * 10 + r\n",
        "    n = n // 10\n",
        "  if buffer == rev :\n",
        "    return \"Yes\"\n",
        "  else :\n",
        "    return \"No\"\n",
        "print(palindrome(123))\n",
        "print(palindrome(121))"
      ],
      "execution_count": 0,
      "outputs": [
        {
          "output_type": "stream",
          "text": [
            "No\n",
            "Yes\n"
          ],
          "name": "stdout"
        }
      ]
    },
    {
      "cell_type": "code",
      "metadata": {
        "id": "zG1x0NFS1MBd",
        "colab_type": "code",
        "outputId": "6588efaf-a41c-4dc2-d4cc-5a499e2c5f7d",
        "colab": {
          "base_uri": "https://localhost:8080/",
          "height": 34
        }
      },
      "source": [
        "# FOR LOOP\n",
        "n = 10\n",
        "for x in range(1,n+1) :\n",
        "  print(x, end = \" \")\n",
        "\n",
        "  "
      ],
      "execution_count": 0,
      "outputs": [
        {
          "output_type": "stream",
          "text": [
            "1 2 3 4 5 6 7 8 9 10 "
          ],
          "name": "stdout"
        }
      ]
    },
    {
      "cell_type": "code",
      "metadata": {
        "id": "F7MAyLwI1P3p",
        "colab_type": "code",
        "outputId": "61d6d26e-340c-4c29-c5de-a334d4f5af31",
        "colab": {
          "base_uri": "https://localhost:8080/",
          "height": 69
        }
      },
      "source": [
        "# Printing b/w two ranges\n",
        "def printNo(a,b) :\n",
        "  for x in range(a,b+1) :\n",
        "    print(x,end=\" \")\n",
        "  return \n",
        "a = int(input(\"Enter lower range - \"))\n",
        "b = int(input(\"Enter upper range - \"))\n",
        "printNo(a,b)\n"
      ],
      "execution_count": 0,
      "outputs": [
        {
          "output_type": "stream",
          "text": [
            "Enter lower range - 5\n",
            "Enter upper range - 18\n",
            "5 6 7 8 9 10 11 12 13 14 15 16 17 18 "
          ],
          "name": "stdout"
        }
      ]
    },
    {
      "cell_type": "code",
      "metadata": {
        "id": "pA0YYc8j1Qfc",
        "colab_type": "code",
        "colab": {}
      },
      "source": [
        "# Printing alternate numbers in given range \n",
        "def AltNo(a,b,x) :\n",
        "  for x in range(a,b+1,x) :\n",
        "    print(x,end=\" \")\n",
        "  return \n",
        "a = int(input(\"Enter lower range - \"))\n",
        "b = int(input(\"Enter upper range - \"))\n",
        "x = int(input(\"Enter gap needed b/w no.s - \"))\n",
        "AltNo(a,b,x)"
      ],
      "execution_count": 0,
      "outputs": []
    },
    {
      "cell_type": "markdown",
      "metadata": {
        "id": "M0BPeg0i1ZKq",
        "colab_type": "text"
      },
      "source": [
        "[image](https://drive.google.com/open?id=148d9YvTCakrEievN1rBQpxkci3gO6KUO)"
      ]
    },
    {
      "cell_type": "code",
      "metadata": {
        "id": "EeP7EptP1hPg",
        "colab_type": "code",
        "outputId": "e3439c7f-4dc3-4c26-fb68-72cbf0523d25",
        "colab": {
          "base_uri": "https://localhost:8080/",
          "height": 106
        }
      },
      "source": [
        "# Printing b/w two ranges in reverse order\n",
        "def reverseNo(a,b) :\n",
        "  for x in range(b,a-1,-1) :\n",
        "    print(x,end=\" \")\n",
        "  return \n",
        "a = int(input(\"Enter lower range - \"))\n",
        "b = int(input(\"Enter upper range - \"))\n",
        "print(\"Reverse order - \")\n",
        "reverseNo(a,b)"
      ],
      "execution_count": 0,
      "outputs": [
        {
          "output_type": "stream",
          "text": [
            "Enter lower range - 8\n",
            "Enter upper range - 100\n",
            "Reverse order - \n",
            "100 99 98 97 96 95 94 93 92 91 90 89 88 87 86 85 84 83 82 81 80 79 78 77 76 75 74 73 72 71 70 69 68 67 66 65 64 63 62 61 60 59 58 57 56 55 54 53 52 51 50 49 48 47 46 45 44 43 42 41 40 39 38 37 36 35 34 33 32 31 30 29 28 27 26 25 24 23 22 21 20 19 18 17 16 15 14 13 12 11 10 9 8 "
          ],
          "name": "stdout"
        }
      ]
    },
    {
      "cell_type": "code",
      "metadata": {
        "id": "oFl07jVf1nSt",
        "colab_type": "code",
        "colab": {}
      },
      "source": [
        ""
      ],
      "execution_count": 0,
      "outputs": []
    },
    {
      "cell_type": "markdown",
      "metadata": {
        "id": "FuF7YwxI13Yz",
        "colab_type": "text"
      },
      "source": [
        "[image](https://drive.google.com/open?id=1ZaqUjm3UZsAOeH7IJSRgTCcNH0sU5CY9)"
      ]
    },
    {
      "cell_type": "code",
      "metadata": {
        "id": "3EE6AxKf16J6",
        "colab_type": "code",
        "colab": {}
      },
      "source": [
        ""
      ],
      "execution_count": 0,
      "outputs": []
    }
  ]
}